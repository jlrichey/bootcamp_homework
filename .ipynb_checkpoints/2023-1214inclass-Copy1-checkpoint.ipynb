{
 "cells": [
  {
   "cell_type": "code",
   "execution_count": 2,
   "id": "d7597ce5-94e6-46d7-8c86-e52cff856ac5",
   "metadata": {
    "tags": []
   },
   "outputs": [],
   "source": [
    "import math"
   ]
  },
  {
   "cell_type": "code",
   "execution_count": 4,
   "id": "d4b6782a-06c7-4f6e-aaa3-ff1c0dfd892f",
   "metadata": {
    "tags": []
   },
   "outputs": [
    {
     "name": "stdout",
     "output_type": "stream",
     "text": [
      "pi is--> 3.141592653589793\n"
     ]
    }
   ],
   "source": [
    "print('pi is-->', math.pi)"
   ]
  },
  {
   "cell_type": "code",
   "execution_count": 5,
   "id": "c13db80e-36db-4477-aa81-84b47d03d362",
   "metadata": {
    "tags": []
   },
   "outputs": [],
   "source": [
    "# Create a function\n",
    "\n",
    "def main():\n",
    "    print(\"Hello World\")"
   ]
  },
  {
   "cell_type": "code",
   "execution_count": 6,
   "id": "901b508e-1c2b-4194-9200-8d25055e37b5",
   "metadata": {
    "tags": []
   },
   "outputs": [],
   "source": [
    "def f(x):\n",
    "    a = 2\n",
    "    b = 4\n",
    "    solution = a*x + b\n",
    "    return solution"
   ]
  },
  {
   "cell_type": "code",
   "execution_count": 8,
   "id": "7809afa5-03e0-4442-a000-c4e03f9047ef",
   "metadata": {
    "tags": []
   },
   "outputs": [
    {
     "data": {
      "text/plain": [
       "8"
      ]
     },
     "execution_count": 8,
     "metadata": {},
     "output_type": "execute_result"
    }
   ],
   "source": [
    "f(2)"
   ]
  },
  {
   "cell_type": "code",
   "execution_count": 9,
   "id": "57fc6dd7-1507-44ca-87eb-441d97f7e156",
   "metadata": {
    "tags": []
   },
   "outputs": [
    {
     "data": {
      "text/plain": [
       "14"
      ]
     },
     "execution_count": 9,
     "metadata": {},
     "output_type": "execute_result"
    }
   ],
   "source": [
    "f(5)"
   ]
  },
  {
   "cell_type": "code",
   "execution_count": 13,
   "id": "86ea46a8-bd37-4da5-b6b7-25785c6af84d",
   "metadata": {
    "tags": []
   },
   "outputs": [],
   "source": [
    "# Calculate the market cap\n",
    "# market price and number of shares\n",
    "\n",
    "def calculate_market_cap(market_price, number_shares):\n",
    "    solution = market_price * number_shares\n",
    "    return solution"
   ]
  },
  {
   "cell_type": "code",
   "execution_count": 18,
   "id": "98c0e76c-92ec-47b0-af5a-5cd89f4ee417",
   "metadata": {
    "tags": []
   },
   "outputs": [],
   "source": [
    "stock_ticker = \"SBUX\"\n",
    "market_price = 76.06\n",
    "number_of_shares_SBUX = 1243600000"
   ]
  },
  {
   "cell_type": "code",
   "execution_count": 19,
   "id": "a2132e3d-0b89-41dd-a6a9-7b47a02eb97f",
   "metadata": {
    "tags": []
   },
   "outputs": [
    {
     "data": {
      "text/plain": [
       "94588216000.0"
      ]
     },
     "execution_count": 19,
     "metadata": {},
     "output_type": "execute_result"
    }
   ],
   "source": [
    "market_cap_SBUX = calculate_market_cap(market_price, number_of_shares_SBUX)\n",
    "market_cap_SBUX"
   ]
  },
  {
   "cell_type": "code",
   "execution_count": null,
   "id": "4cf18ab9-d555-461f-94c1-69798ac780fd",
   "metadata": {},
   "outputs": [],
   "source": []
  }
 ],
 "metadata": {
  "kernelspec": {
   "display_name": "Python 3 (ipykernel)",
   "language": "python",
   "name": "python3"
  },
  "language_info": {
   "codemirror_mode": {
    "name": "ipython",
    "version": 3
   },
   "file_extension": ".py",
   "mimetype": "text/x-python",
   "name": "python",
   "nbconvert_exporter": "python",
   "pygments_lexer": "ipython3",
   "version": "3.10.13"
  }
 },
 "nbformat": 4,
 "nbformat_minor": 5
}
