{
 "cells": [
  {
   "cell_type": "code",
   "execution_count": 26,
   "id": "d7597ce5-94e6-46d7-8c86-e52cff856ac5",
   "metadata": {
    "tags": []
   },
   "outputs": [],
   "source": [
    "# Define my function of TVM\n",
    "def calculate_future_value(present_value, interest_rate, compounding_periods, years):\n",
    "    future_value = present_value * ((1 + (interest_rate / compounding_periods))**(compounding_periods * years))\n",
    "    return future_value"
   ]
  },
  {
   "cell_type": "code",
   "execution_count": 27,
   "id": "6faec9fd-f878-4156-bcf8-6bb8e6944e86",
   "metadata": {
    "tags": []
   },
   "outputs": [],
   "source": [
    "# Set the values\n",
    "present_value = 10000\n",
    "interest_rate = .1\n",
    "compounding_periods = 1\n",
    "years = 3"
   ]
  },
  {
   "cell_type": "code",
   "execution_count": 28,
   "id": "9fa8d53f-43e8-4c4c-a2d7-6a3f24611c1d",
   "metadata": {
    "tags": []
   },
   "outputs": [
    {
     "data": {
      "text/plain": [
       "13310.000000000004"
      ]
     },
     "execution_count": 28,
     "metadata": {},
     "output_type": "execute_result"
    }
   ],
   "source": [
    "future_value = calculate_future_value(present_value, interest_rate, compounding_periods, years)\n",
    "future_value"
   ]
  },
  {
   "cell_type": "code",
   "execution_count": 24,
   "id": "1db4feca-a15e-4429-9d58-a0be754cfe24",
   "metadata": {
    "tags": []
   },
   "outputs": [
    {
     "name": "stdout",
     "output_type": "stream",
     "text": [
      "The future value of $ 10000 at an interest rate of 0.1 compounded 1 time(s) every year over 3 is $ 13310.0\n"
     ]
    }
   ],
   "source": [
    "print(f\"The future value of $ {present_value} at an interest rate of {interest_rate} compounded {compounding_periods} time(s) every year over {years} is $ {future_value}\")"
   ]
  },
  {
   "cell_type": "code",
   "execution_count": null,
   "id": "f5ae89de-d4b4-48fe-85e4-30cc9d0a2d00",
   "metadata": {},
   "outputs": [],
   "source": []
  }
 ],
 "metadata": {
  "kernelspec": {
   "display_name": "Python 3 (ipykernel)",
   "language": "python",
   "name": "python3"
  },
  "language_info": {
   "codemirror_mode": {
    "name": "ipython",
    "version": 3
   },
   "file_extension": ".py",
   "mimetype": "text/x-python",
   "name": "python",
   "nbconvert_exporter": "python",
   "pygments_lexer": "ipython3",
   "version": "3.10.13"
  }
 },
 "nbformat": 4,
 "nbformat_minor": 5
}
